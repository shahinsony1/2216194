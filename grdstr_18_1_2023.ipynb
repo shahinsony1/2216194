{
  "nbformat": 4,
  "nbformat_minor": 0,
  "metadata": {
    "colab": {
      "provenance": [],
      "authorship_tag": "ABX9TyOGLnOvB0BmYwmJ6Yr/MKN3",
      "include_colab_link": true
    },
    "kernelspec": {
      "name": "python3",
      "display_name": "Python 3"
    },
    "language_info": {
      "name": "python"
    }
  },
  "cells": [
    {
      "cell_type": "markdown",
      "metadata": {
        "id": "view-in-github",
        "colab_type": "text"
      },
      "source": [
        "<a href=\"https://colab.research.google.com/github/shahinsony1/2216194/blob/main/grdstr_18_1_2023.ipynb\" target=\"_parent\"><img src=\"https://colab.research.google.com/assets/colab-badge.svg\" alt=\"Open In Colab\"/></a>"
      ]
    },
    {
      "cell_type": "code",
      "execution_count": 1,
      "metadata": {
        "colab": {
          "base_uri": "https://localhost:8080/",
          "height": 209
        },
        "id": "4F3PRLlZvrrd",
        "outputId": "bc929ec5-7eb3-4864-e31e-513264006e81"
      },
      "outputs": [
        {
          "output_type": "error",
          "ename": "NameError",
          "evalue": "ignored",
          "traceback": [
            "\u001b[0;31m---------------------------------------------------------------------------\u001b[0m",
            "\u001b[0;31mNameError\u001b[0m                                 Traceback (most recent call last)",
            "\u001b[0;32m<ipython-input-1-8eae03d7e583>\u001b[0m in \u001b[0;36m<module>\u001b[0;34m\u001b[0m\n\u001b[1;32m      1\u001b[0m \u001b[0;31m#exception handling\u001b[0m\u001b[0;34m\u001b[0m\u001b[0;34m\u001b[0m\u001b[0;34m\u001b[0m\u001b[0m\n\u001b[1;32m      2\u001b[0m \u001b[0;31m#name error\u001b[0m\u001b[0;34m\u001b[0m\u001b[0;34m\u001b[0m\u001b[0;34m\u001b[0m\u001b[0m\n\u001b[0;32m----> 3\u001b[0;31m \u001b[0mprint\u001b[0m\u001b[0;34m(\u001b[0m\u001b[0md\u001b[0m\u001b[0;34m)\u001b[0m\u001b[0;34m\u001b[0m\u001b[0;34m\u001b[0m\u001b[0m\n\u001b[0m",
            "\u001b[0;31mNameError\u001b[0m: name 'd' is not defined"
          ]
        }
      ],
      "source": [
        "#exception handling\n",
        "#name error\n",
        "print(d)"
      ]
    },
    {
      "cell_type": "code",
      "source": [
        "#value error\n",
        "a=\"25 xyz\"\n",
        "print(int(a))"
      ],
      "metadata": {
        "colab": {
          "base_uri": "https://localhost:8080/",
          "height": 209
        },
        "id": "_TYathyVweR3",
        "outputId": "6959af15-d33d-4850-eff3-3669a3476d40"
      },
      "execution_count": 2,
      "outputs": [
        {
          "output_type": "error",
          "ename": "ValueError",
          "evalue": "ignored",
          "traceback": [
            "\u001b[0;31m---------------------------------------------------------------------------\u001b[0m",
            "\u001b[0;31mValueError\u001b[0m                                Traceback (most recent call last)",
            "\u001b[0;32m<ipython-input-2-d7f61ebe063d>\u001b[0m in \u001b[0;36m<module>\u001b[0;34m\u001b[0m\n\u001b[1;32m      1\u001b[0m \u001b[0;31m#value error\u001b[0m\u001b[0;34m\u001b[0m\u001b[0;34m\u001b[0m\u001b[0;34m\u001b[0m\u001b[0m\n\u001b[1;32m      2\u001b[0m \u001b[0ma\u001b[0m\u001b[0;34m=\u001b[0m\u001b[0;34m\"25 xyz\"\u001b[0m\u001b[0;34m\u001b[0m\u001b[0;34m\u001b[0m\u001b[0m\n\u001b[0;32m----> 3\u001b[0;31m \u001b[0mprint\u001b[0m\u001b[0;34m(\u001b[0m\u001b[0mint\u001b[0m\u001b[0;34m(\u001b[0m\u001b[0ma\u001b[0m\u001b[0;34m)\u001b[0m\u001b[0;34m)\u001b[0m\u001b[0;34m\u001b[0m\u001b[0;34m\u001b[0m\u001b[0m\n\u001b[0m",
            "\u001b[0;31mValueError\u001b[0m: invalid literal for int() with base 10: '25 xyz'"
          ]
        }
      ]
    },
    {
      "cell_type": "code",
      "source": [
        "#zero divivsion error\n",
        "d=10/0\n",
        "print(d)"
      ],
      "metadata": {
        "colab": {
          "base_uri": "https://localhost:8080/",
          "height": 209
        },
        "id": "ZxsEdiHfwqgs",
        "outputId": "e5ebecc9-5a6a-46fb-8597-674d72dc2567"
      },
      "execution_count": 3,
      "outputs": [
        {
          "output_type": "error",
          "ename": "ZeroDivisionError",
          "evalue": "ignored",
          "traceback": [
            "\u001b[0;31m---------------------------------------------------------------------------\u001b[0m",
            "\u001b[0;31mZeroDivisionError\u001b[0m                         Traceback (most recent call last)",
            "\u001b[0;32m<ipython-input-3-841ae14c0789>\u001b[0m in \u001b[0;36m<module>\u001b[0;34m\u001b[0m\n\u001b[1;32m      1\u001b[0m \u001b[0;31m#zero divivsion error\u001b[0m\u001b[0;34m\u001b[0m\u001b[0;34m\u001b[0m\u001b[0;34m\u001b[0m\u001b[0m\n\u001b[0;32m----> 2\u001b[0;31m \u001b[0md\u001b[0m\u001b[0;34m=\u001b[0m\u001b[0;36m10\u001b[0m\u001b[0;34m/\u001b[0m\u001b[0;36m0\u001b[0m\u001b[0;34m\u001b[0m\u001b[0;34m\u001b[0m\u001b[0m\n\u001b[0m\u001b[1;32m      3\u001b[0m \u001b[0mprint\u001b[0m\u001b[0;34m(\u001b[0m\u001b[0md\u001b[0m\u001b[0;34m)\u001b[0m\u001b[0;34m\u001b[0m\u001b[0;34m\u001b[0m\u001b[0m\n",
            "\u001b[0;31mZeroDivisionError\u001b[0m: division by zero"
          ]
        }
      ]
    },
    {
      "cell_type": "code",
      "source": [
        "#key error\n",
        "myd=[1:\"apples\",2:\"bananas\"]\n",
        "print(myd[3])"
      ],
      "metadata": {
        "colab": {
          "base_uri": "https://localhost:8080/",
          "height": 135
        },
        "id": "klZx7qIbw0VD",
        "outputId": "ef80e2b7-bf8c-4648-c5b4-4570d38b6dc0"
      },
      "execution_count": 4,
      "outputs": [
        {
          "output_type": "error",
          "ename": "SyntaxError",
          "evalue": "ignored",
          "traceback": [
            "\u001b[0;36m  File \u001b[0;32m\"<ipython-input-4-31e9fcca0508>\"\u001b[0;36m, line \u001b[0;32m2\u001b[0m\n\u001b[0;31m    myd=[1:\"apples\",2:\"bananas\"]\u001b[0m\n\u001b[0m          ^\u001b[0m\n\u001b[0;31mSyntaxError\u001b[0m\u001b[0;31m:\u001b[0m invalid syntax\n"
          ]
        }
      ]
    },
    {
      "cell_type": "code",
      "source": [
        "#indexerror\n",
        "li=[1,2,3,4 ]\n",
        "print(li[5])"
      ],
      "metadata": {
        "colab": {
          "base_uri": "https://localhost:8080/",
          "height": 209
        },
        "id": "OWZLoUUFxNzK",
        "outputId": "b8f7fdc8-ab5b-481a-ada2-5e7ca1c02619"
      },
      "execution_count": 6,
      "outputs": [
        {
          "output_type": "error",
          "ename": "IndexError",
          "evalue": "ignored",
          "traceback": [
            "\u001b[0;31m---------------------------------------------------------------------------\u001b[0m",
            "\u001b[0;31mIndexError\u001b[0m                                Traceback (most recent call last)",
            "\u001b[0;32m<ipython-input-6-158301932eea>\u001b[0m in \u001b[0;36m<module>\u001b[0;34m\u001b[0m\n\u001b[1;32m      1\u001b[0m \u001b[0;31m#indexerror\u001b[0m\u001b[0;34m\u001b[0m\u001b[0;34m\u001b[0m\u001b[0;34m\u001b[0m\u001b[0m\n\u001b[1;32m      2\u001b[0m \u001b[0mli\u001b[0m\u001b[0;34m=\u001b[0m\u001b[0;34m[\u001b[0m\u001b[0;36m1\u001b[0m\u001b[0;34m,\u001b[0m\u001b[0;36m2\u001b[0m\u001b[0;34m,\u001b[0m\u001b[0;36m3\u001b[0m\u001b[0;34m,\u001b[0m\u001b[0;36m4\u001b[0m \u001b[0;34m]\u001b[0m\u001b[0;34m\u001b[0m\u001b[0;34m\u001b[0m\u001b[0m\n\u001b[0;32m----> 3\u001b[0;31m \u001b[0mprint\u001b[0m\u001b[0;34m(\u001b[0m\u001b[0mli\u001b[0m\u001b[0;34m[\u001b[0m\u001b[0;36m5\u001b[0m\u001b[0;34m]\u001b[0m\u001b[0;34m)\u001b[0m\u001b[0;34m\u001b[0m\u001b[0;34m\u001b[0m\u001b[0m\n\u001b[0m",
            "\u001b[0;31mIndexError\u001b[0m: list index out of range"
          ]
        }
      ]
    },
    {
      "cell_type": "code",
      "source": [
        "#run time error \n"
      ],
      "metadata": {
        "id": "czGtgZVl1S9t"
      },
      "execution_count": null,
      "outputs": []
    },
    {
      "cell_type": "code",
      "source": [
        "#type error\n",
        "a=10\n",
        "b=\"10\"\n",
        "r=a/b"
      ],
      "metadata": {
        "colab": {
          "base_uri": "https://localhost:8080/",
          "height": 209
        },
        "id": "zrQnpDiv1wX3",
        "outputId": "c688e219-e8b0-4cec-f937-0bdb274f1ae5"
      },
      "execution_count": 7,
      "outputs": [
        {
          "output_type": "error",
          "ename": "TypeError",
          "evalue": "ignored",
          "traceback": [
            "\u001b[0;31m---------------------------------------------------------------------------\u001b[0m",
            "\u001b[0;31mTypeError\u001b[0m                                 Traceback (most recent call last)",
            "\u001b[0;32m<ipython-input-7-6a081693168e>\u001b[0m in \u001b[0;36m<module>\u001b[0;34m\u001b[0m\n\u001b[1;32m      2\u001b[0m \u001b[0ma\u001b[0m\u001b[0;34m=\u001b[0m\u001b[0;36m10\u001b[0m\u001b[0;34m\u001b[0m\u001b[0;34m\u001b[0m\u001b[0m\n\u001b[1;32m      3\u001b[0m \u001b[0mb\u001b[0m\u001b[0;34m=\u001b[0m\u001b[0;34m\"10\"\u001b[0m\u001b[0;34m\u001b[0m\u001b[0;34m\u001b[0m\u001b[0m\n\u001b[0;32m----> 4\u001b[0;31m \u001b[0mr\u001b[0m\u001b[0;34m=\u001b[0m\u001b[0ma\u001b[0m\u001b[0;34m/\u001b[0m\u001b[0mb\u001b[0m\u001b[0;34m\u001b[0m\u001b[0;34m\u001b[0m\u001b[0m\n\u001b[0m",
            "\u001b[0;31mTypeError\u001b[0m: unsupported operand type(s) for /: 'int' and 'str'"
          ]
        }
      ]
    },
    {
      "cell_type": "code",
      "source": [
        "try:\n",
        "  print(x)\n",
        "except NameError as ne:\n",
        "     print(\"testcase1:\",ne)\n",
        "     print(\"executed\")"
      ],
      "metadata": {
        "colab": {
          "base_uri": "https://localhost:8080/"
        },
        "id": "TVPUso0B14hA",
        "outputId": "77de5ce3-cc6a-4df5-9c67-801c6129b48c"
      },
      "execution_count": 15,
      "outputs": [
        {
          "output_type": "stream",
          "name": "stdout",
          "text": [
            "testcase1: name 'x' is not defined\n",
            "executed\n"
          ]
        }
      ]
    },
    {
      "cell_type": "code",
      "source": [
        "#name error\n",
        "try:\n",
        "  print(x)\n",
        "except NameError as sd:\n",
        "    print(\"testcase1:\",sd)\n",
        "    print(\"executed\")"
      ],
      "metadata": {
        "colab": {
          "base_uri": "https://localhost:8080/"
        },
        "id": "1hucZ6q43DgG",
        "outputId": "ef2f418d-e0ab-4a0c-8a43-efcf5d8fe305"
      },
      "execution_count": 17,
      "outputs": [
        {
          "output_type": "stream",
          "name": "stdout",
          "text": [
            "testcase1: name 'x' is not defined\n",
            "executed\n"
          ]
        }
      ]
    },
    {
      "cell_type": "code",
      "source": [
        "#value error\n",
        "try:\n",
        "  z=\"25 abc\"\n",
        "  print(int(z))\n",
        "except ValueError as sd:\n",
        "    print(\"testcase1:,sd\")\n",
        "    print(\"executed\")\n",
        "    print(z)\n"
      ],
      "metadata": {
        "colab": {
          "base_uri": "https://localhost:8080/"
        },
        "id": "0XKwtkO13rQ_",
        "outputId": "9136e2db-9d9e-41b9-82c0-1557740b6fab"
      },
      "execution_count": 22,
      "outputs": [
        {
          "output_type": "stream",
          "name": "stdout",
          "text": [
            "testcase1:,sd\n",
            "executed\n",
            "25 abc\n"
          ]
        }
      ]
    },
    {
      "cell_type": "code",
      "source": [
        "#zero division error\n",
        "try:\n",
        " d=10/0\n",
        " print(d)\n",
        "except ZeroDivisionError as sd:\n",
        "   print(\"testcase1:\",sd)\n",
        "   print(\"executed\")\n",
        "   "
      ],
      "metadata": {
        "colab": {
          "base_uri": "https://localhost:8080/"
        },
        "id": "jl3Y-dbQ4W76",
        "outputId": "ac9a536a-bd2d-4846-f881-fd1341814490"
      },
      "execution_count": 27,
      "outputs": [
        {
          "output_type": "stream",
          "name": "stdout",
          "text": [
            "testcase1: division by zero\n",
            "executed\n"
          ]
        }
      ]
    },
    {
      "cell_type": "code",
      "source": [
        "#key error\n",
        "m=(apples,banana)\n",
        "try:\n",
        "   print(m[3])\n",
        "except KeyError:\n",
        "  print(\"testcase1:\")\n",
        "  print(\"executed\")"
      ],
      "metadata": {
        "colab": {
          "base_uri": "https://localhost:8080/",
          "height": 246
        },
        "id": "YbPIQ8AA5-rZ",
        "outputId": "c1a4517d-d560-427c-dbe5-55712117d69d"
      },
      "execution_count": 41,
      "outputs": [
        {
          "output_type": "error",
          "ename": "NameError",
          "evalue": "ignored",
          "traceback": [
            "\u001b[0;31m---------------------------------------------------------------------------\u001b[0m",
            "\u001b[0;31mNameError\u001b[0m                                 Traceback (most recent call last)",
            "\u001b[0;32m<ipython-input-41-255fafcd2e06>\u001b[0m in \u001b[0;36m<module>\u001b[0;34m\u001b[0m\n\u001b[1;32m      1\u001b[0m \u001b[0;31m#key error\u001b[0m\u001b[0;34m\u001b[0m\u001b[0;34m\u001b[0m\u001b[0;34m\u001b[0m\u001b[0m\n\u001b[0;32m----> 2\u001b[0;31m \u001b[0mm\u001b[0m\u001b[0;34m=\u001b[0m\u001b[0;34m(\u001b[0m\u001b[0mapples\u001b[0m\u001b[0;34m,\u001b[0m\u001b[0mbanana\u001b[0m\u001b[0;34m)\u001b[0m\u001b[0;34m\u001b[0m\u001b[0;34m\u001b[0m\u001b[0m\n\u001b[0m\u001b[1;32m      3\u001b[0m \u001b[0;32mtry\u001b[0m\u001b[0;34m:\u001b[0m\u001b[0;34m\u001b[0m\u001b[0;34m\u001b[0m\u001b[0m\n\u001b[1;32m      4\u001b[0m    \u001b[0mprint\u001b[0m\u001b[0;34m(\u001b[0m\u001b[0mm\u001b[0m\u001b[0;34m[\u001b[0m\u001b[0;36m3\u001b[0m\u001b[0;34m]\u001b[0m\u001b[0;34m)\u001b[0m\u001b[0;34m\u001b[0m\u001b[0;34m\u001b[0m\u001b[0m\n\u001b[1;32m      5\u001b[0m \u001b[0;32mexcept\u001b[0m \u001b[0mKeyError\u001b[0m\u001b[0;34m:\u001b[0m\u001b[0;34m\u001b[0m\u001b[0;34m\u001b[0m\u001b[0m\n",
            "\u001b[0;31mNameError\u001b[0m: name 'apples' is not defined"
          ]
        }
      ]
    },
    {
      "cell_type": "code",
      "source": [
        "class INVALIDSTUDENTID (Exception):\n",
        "  def _str_(self):\n",
        "    return \"ERROR RAISED\"\n",
        "stid=input(\"ENTER STUDENT ID\")\n",
        "try:\n",
        "    if stid[:4]!=\"18k4\":\n",
        "      raise INVALIDSTUDENTID\n",
        "    else:\n",
        "         print(\"VERIFIED\")\n",
        "except INVALIDSTUDENTID as i:\n",
        "         print(i)\n",
        "print(\"details checked\")"
      ],
      "metadata": {
        "colab": {
          "base_uri": "https://localhost:8080/"
        },
        "id": "oX_6OpH5E0S8",
        "outputId": "a816659d-5cc3-40d0-8251-3939ec8b4eae"
      },
      "execution_count": 71,
      "outputs": [
        {
          "output_type": "stream",
          "name": "stdout",
          "text": [
            "ENTER STUDENT ID18k\n",
            "\n",
            "details checked\n"
          ]
        }
      ]
    },
    {
      "cell_type": "code",
      "source": [
        "class VOTERID(Exception):\n",
        "  def _str_(self):\n",
        "    return \"cannot vote\"\n",
        "VOID=input(\"ENTER VOTER AGE\")\n",
        "try:\n",
        "  if VOID[:2]!=\"18\":\n",
        "    raise VOTERID\n",
        "  else:\n",
        "      print(\"can vote\")\n",
        "except VOTERID as i:\n",
        "      print(i)\n",
        "      print(\"age checked\") "
      ],
      "metadata": {
        "colab": {
          "base_uri": "https://localhost:8080/"
        },
        "id": "UfeNOhKjHzoj",
        "outputId": "8b5e559b-e8e6-4972-ad2b-5ef40d57a782"
      },
      "execution_count": 67,
      "outputs": [
        {
          "output_type": "stream",
          "name": "stdout",
          "text": [
            "ENTER VOTER AGE21\n",
            "\n",
            "age checked\n"
          ]
        }
      ]
    },
    {
      "cell_type": "code",
      "source": [
        "#modulas\n",
        "#os module\n",
        "import os\n",
        "os.mkdir(\"hi\")\n",
        "os.chdir(\"hi\")\n",
        "os.getcwd()\n",
        "os.listdir()\n",
        "os.rmdir(\"/content/hi\")"
      ],
      "metadata": {
        "colab": {
          "base_uri": "https://localhost:8080/",
          "height": 209
        },
        "id": "_gj_T9MJWiTo",
        "outputId": "56ddea6f-4785-4f0d-e861-40cdfa4b35a9"
      },
      "execution_count": 75,
      "outputs": [
        {
          "output_type": "error",
          "ename": "OSError",
          "evalue": "ignored",
          "traceback": [
            "\u001b[0;31m---------------------------------------------------------------------------\u001b[0m",
            "\u001b[0;31mOSError\u001b[0m                                   Traceback (most recent call last)",
            "\u001b[0;32m<ipython-input-75-c122ecb6e257>\u001b[0m in \u001b[0;36m<module>\u001b[0;34m\u001b[0m\n\u001b[1;32m      6\u001b[0m \u001b[0mos\u001b[0m\u001b[0;34m.\u001b[0m\u001b[0mgetcwd\u001b[0m\u001b[0;34m(\u001b[0m\u001b[0;34m)\u001b[0m\u001b[0;34m\u001b[0m\u001b[0;34m\u001b[0m\u001b[0m\n\u001b[1;32m      7\u001b[0m \u001b[0mos\u001b[0m\u001b[0;34m.\u001b[0m\u001b[0mlistdir\u001b[0m\u001b[0;34m(\u001b[0m\u001b[0;34m)\u001b[0m\u001b[0;34m\u001b[0m\u001b[0;34m\u001b[0m\u001b[0m\n\u001b[0;32m----> 8\u001b[0;31m \u001b[0mos\u001b[0m\u001b[0;34m.\u001b[0m\u001b[0mrmdir\u001b[0m\u001b[0;34m(\u001b[0m\u001b[0;34m\"/content/hi\"\u001b[0m\u001b[0;34m)\u001b[0m\u001b[0;34m\u001b[0m\u001b[0;34m\u001b[0m\u001b[0m\n\u001b[0m",
            "\u001b[0;31mOSError\u001b[0m: [Errno 39] Directory not empty: '/content/hi'"
          ]
        }
      ]
    },
    {
      "cell_type": "code",
      "source": [
        "#math module\n",
        "import math as m\n",
        "print(m.pi)\n",
        "print(m.e)\n",
        "print(m.sqrt(4))\n",
        "print(m.factorial(5))\n",
        "print(m.pow(5,5))\n",
        "print(m.floor(-3.11))\n",
        "print(m.tan(5))\n",
        "print(m.log(3))"
      ],
      "metadata": {
        "colab": {
          "base_uri": "https://localhost:8080/"
        },
        "id": "ABuu6y-qiYIM",
        "outputId": "cbaed365-40df-4b7f-900e-58412219cd77"
      },
      "execution_count": 76,
      "outputs": [
        {
          "output_type": "stream",
          "name": "stdout",
          "text": [
            "3.141592653589793\n",
            "2.718281828459045\n",
            "2.0\n",
            "120\n",
            "3125.0\n",
            "-4\n",
            "-3.380515006246586\n",
            "1.0986122886681098\n"
          ]
        }
      ]
    },
    {
      "cell_type": "code",
      "source": [
        "#sys module\n",
        "import sys\n",
        "print(sys.path)\n",
        "print(sys.version)\n",
        "print(sys.maxsize)"
      ],
      "metadata": {
        "colab": {
          "base_uri": "https://localhost:8080/"
        },
        "id": "_N15ZU8FjC8S",
        "outputId": "8b522722-55c8-4f96-af02-d84db89031eb"
      },
      "execution_count": 77,
      "outputs": [
        {
          "output_type": "stream",
          "name": "stdout",
          "text": [
            "['/content', '/env/python', '/usr/lib/python38.zip', '/usr/lib/python3.8', '/usr/lib/python3.8/lib-dynload', '', '/usr/local/lib/python3.8/dist-packages', '/usr/lib/python3/dist-packages', '/usr/local/lib/python3.8/dist-packages/IPython/extensions', '/root/.ipython']\n",
            "3.8.10 (default, Nov 14 2022, 12:59:47) \n",
            "[GCC 9.4.0]\n",
            "9223372036854775807\n"
          ]
        }
      ]
    },
    {
      "cell_type": "code",
      "source": [
        "#statistics module\n",
        "import statistics as s\n",
        "print(s.mean([21,2,34,56]))\n",
        "print(s.median([1,2,3,4,5]))\n",
        "print(s.mode([1,2,3,4,5,6,7,5]))"
      ],
      "metadata": {
        "colab": {
          "base_uri": "https://localhost:8080/"
        },
        "id": "jew4eC0RjejF",
        "outputId": "b7c910ab-189a-4016-a271-fe2214c5cb14"
      },
      "execution_count": 78,
      "outputs": [
        {
          "output_type": "stream",
          "name": "stdout",
          "text": [
            "28.25\n",
            "3\n",
            "5\n"
          ]
        }
      ]
    },
    {
      "cell_type": "code",
      "source": [
        "#random module\n",
        "import random as r\n",
        "print(r.randrange(1,50))\n",
        "print(r.randint(1,100))\n",
        "print(r.random()) "
      ],
      "metadata": {
        "colab": {
          "base_uri": "https://localhost:8080/"
        },
        "id": "MD-f3tuWkBHn",
        "outputId": "2c8f1b14-2710-48a9-9fc9-74644747555e"
      },
      "execution_count": 79,
      "outputs": [
        {
          "output_type": "stream",
          "name": "stdout",
          "text": [
            "17\n",
            "82\n",
            "0.5660865173921608\n"
          ]
        }
      ]
    },
    {
      "cell_type": "code",
      "source": [
        "import  random\n",
        "guess_no=int(input(\"PRIDICT A NUMBER\"))\n",
        "G=random.randint(1,5)\n",
        "if G==guess_no:\n",
        "  print(\"you won\")\n",
        "else:\n",
        "    print(\"you lost\")"
      ],
      "metadata": {
        "colab": {
          "base_uri": "https://localhost:8080/"
        },
        "id": "kKnuYVO2kbl7",
        "outputId": "16f1c177-0232-4691-b868-e129653ea6e2"
      },
      "execution_count": 81,
      "outputs": [
        {
          "output_type": "stream",
          "name": "stdout",
          "text": [
            "PRIDICT A NUMBER6\n",
            "you lost\n"
          ]
        }
      ]
    },
    {
      "cell_type": "code",
      "source": [
        "#regular expressions\n",
        "import re\n",
        "pattern=\"COOKIE\"\n",
        "sequence=\"cookie\"\n",
        "if re.match(pattern,sequence):\n",
        "  print(\"MATCHING\")\n",
        "else:\n",
        "    print(\"not matching\")"
      ],
      "metadata": {
        "colab": {
          "base_uri": "https://localhost:8080/"
        },
        "id": "CaBgTMc2lCqO",
        "outputId": "2f213a24-fd3a-48a4-d881-3eb466021e7c"
      },
      "execution_count": 83,
      "outputs": [
        {
          "output_type": "stream",
          "name": "stdout",
          "text": [
            "not matching\n"
          ]
        }
      ]
    },
    {
      "cell_type": "code",
      "source": [],
      "metadata": {
        "id": "h8BKq_MxmFPL"
      },
      "execution_count": null,
      "outputs": []
    },
    {
      "cell_type": "code",
      "source": [],
      "metadata": {
        "id": "zOkJGEbeiUVB"
      },
      "execution_count": null,
      "outputs": []
    },
    {
      "cell_type": "code",
      "source": [],
      "metadata": {
        "id": "KOnj9iKG51IL"
      },
      "execution_count": null,
      "outputs": []
    }
  ]
}