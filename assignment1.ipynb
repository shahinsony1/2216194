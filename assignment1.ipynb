{
  "nbformat": 4,
  "nbformat_minor": 0,
  "metadata": {
    "colab": {
      "provenance": [],
      "authorship_tag": "ABX9TyMbTenNivETZSdupuhIfcVL",
      "include_colab_link": true
    },
    "kernelspec": {
      "name": "python3",
      "display_name": "Python 3"
    },
    "language_info": {
      "name": "python"
    }
  },
  "cells": [
    {
      "cell_type": "markdown",
      "metadata": {
        "id": "view-in-github",
        "colab_type": "text"
      },
      "source": [
        "<a href=\"https://colab.research.google.com/github/shahinsony1/2216194/blob/main/assignment1.ipynb\" target=\"_parent\"><img src=\"https://colab.research.google.com/assets/colab-badge.svg\" alt=\"Open In Colab\"/></a>"
      ]
    },
    {
      "cell_type": "code",
      "source": [
        "#1. string opertaions\n",
        "str=\"python\"\n",
        "print(str)"
      ],
      "metadata": {
        "id": "27jyszzcV30H",
        "colab": {
          "base_uri": "https://localhost:8080/"
        },
        "outputId": "d63bc245-a20f-4778-ea05-f68e32a2c4bd"
      },
      "execution_count": null,
      "outputs": [
        {
          "output_type": "stream",
          "name": "stdout",
          "text": [
            "python\n"
          ]
        }
      ]
    },
    {
      "cell_type": "code",
      "source": [
        "str1=\"gradstellar 1st assignment\"\n",
        "str2=\" python basic operations\"\n",
        "print(str1,str2)"
      ],
      "metadata": {
        "id": "6jkZYinBWjrE"
      },
      "execution_count": null,
      "outputs": []
    },
    {
      "cell_type": "code",
      "source": [
        "str2=\"10\"\n",
        "str3=\"20\"\n",
        "print(str2,str3)"
      ],
      "metadata": {
        "id": "5-xCBXghXJFg"
      },
      "execution_count": null,
      "outputs": []
    },
    {
      "cell_type": "code",
      "source": [
        "str1=(\"shahin\",\"10\",\"20\")\n",
        "str2=(\"welcome to gradstellar\")\n",
        "print(str1)\n",
        "print(str2)\n",
        "print(str1,str2)\n",
        "\n",
        "      "
      ],
      "metadata": {
        "id": "i2OPzncGXdtC",
        "colab": {
          "base_uri": "https://localhost:8080/"
        },
        "outputId": "8b99604b-06e5-4705-ba0d-98d9fe683905"
      },
      "execution_count": null,
      "outputs": [
        {
          "output_type": "stream",
          "name": "stdout",
          "text": [
            "('shahin', '10', '20')\n",
            "welcome to gradstellar\n",
            "('shahin', '10', '20') welcome to gradstellar\n"
          ]
        }
      ]
    },
    {
      "cell_type": "code",
      "source": [
        "#2. list operations\n",
        "a=[10,20,20.2,50,\"hai\",\"abcd\"]\n",
        "\n",
        "print(list(a))"
      ],
      "metadata": {
        "id": "3_lNCDG7YFfL",
        "colab": {
          "base_uri": "https://localhost:8080/"
        },
        "outputId": "1e7b7354-1608-4321-f1af-3aed3d48f6f9"
      },
      "execution_count": null,
      "outputs": [
        {
          "output_type": "stream",
          "name": "stdout",
          "text": [
            "[10, 20, 20.2, 50, 'hai', 'abcd']\n"
          ]
        }
      ]
    },
    {
      "cell_type": "code",
      "source": [
        "#3. tuple operations\n",
        "t=()\n",
        "type(t)\n",
        "t=(10,20,30,40)\n",
        "print(t)\n",
        "\n",
        "\n",
        "t1=(10,20,30)\n",
        "t2=(40,50,60)\n",
        "t1+t2\n",
        "\n",
        "t1\n",
        "t1*3\n",
        "t2*2"
      ],
      "metadata": {
        "id": "CliNvMzlZb4Y"
      },
      "execution_count": null,
      "outputs": []
    },
    {
      "cell_type": "code",
      "source": [
        "#4. dictionary \n",
        "dict={\"name\":\"shahin\",\"R.no\":\"21\",\"city\":\"hanamkonda\"}\n",
        "print(dict)\n",
        "dict[\"name\"]\n",
        "dict[\"R.no\"]\n",
        "dict[\"city\"]\n",
        "dict1={\"xyz\"}\n",
        "print(dict,dict1)"
      ],
      "metadata": {
        "id": "iLHX4HrWan7Z",
        "colab": {
          "base_uri": "https://localhost:8080/"
        },
        "outputId": "de66038e-937d-4344-e1a5-1e6d5663a5e9"
      },
      "execution_count": null,
      "outputs": [
        {
          "output_type": "stream",
          "name": "stdout",
          "text": [
            "{'name': 'shahin', 'R.no': '21', 'city': 'hanamkonda'}\n",
            "{'name': 'shahin', 'R.no': '21', 'city': 'hanamkonda'} {'xyz'}\n"
          ]
        }
      ]
    },
    {
      "cell_type": "code",
      "source": [
        "#5. sets\n",
        "from re import S\n",
        "#set\n",
        "s={}\n",
        "type(s)\n",
        "s=set()\n",
        "s={10,20,30,50}\n",
        "print(s)\n",
        "s1={20,40,60,40}\n",
        "print(s,s1)\n",
        "len(s)\n",
        "len(s1)\n",
        "s.add(60)\n",
        "s.remove(10)\n",
        "s.pop()\n",
        "s.clear()\n",
        "del s\n",
        "\n"
      ],
      "metadata": {
        "id": "VMYW7vMwxXgj",
        "colab": {
          "base_uri": "https://localhost:8080/"
        },
        "outputId": "88d16ad3-9fc9-4335-df84-7371f0b56266"
      },
      "execution_count": null,
      "outputs": [
        {
          "output_type": "stream",
          "name": "stdout",
          "text": [
            "{10, 20, 50, 30}\n",
            "{10, 20, 50, 30} {40, 20, 60}\n"
          ]
        }
      ]
    },
    {
      "cell_type": "code",
      "source": [
        "s={10,20,30,60}\n",
        "t={10,20,30,70}\n",
        "s. issubset (t)"
      ],
      "metadata": {
        "id": "0eugLuLW5hmk",
        "colab": {
          "base_uri": "https://localhost:8080/"
        },
        "outputId": "b1ceed1d-36f4-43b7-fce5-58d6ecf9affd"
      },
      "execution_count": null,
      "outputs": [
        {
          "output_type": "execute_result",
          "data": {
            "text/plain": [
              "False"
            ]
          },
          "metadata": {},
          "execution_count": 8
        }
      ]
    },
    {
      "cell_type": "code",
      "source": [
        "t.issuperset(s)"
      ],
      "metadata": {
        "id": "1PakijZo56eH",
        "colab": {
          "base_uri": "https://localhost:8080/"
        },
        "outputId": "a09995f7-f5d9-4ad5-8c4c-84ecf5f2b0f3"
      },
      "execution_count": null,
      "outputs": [
        {
          "output_type": "execute_result",
          "data": {
            "text/plain": [
              "False"
            ]
          },
          "metadata": {},
          "execution_count": 9
        }
      ]
    },
    {
      "cell_type": "code",
      "source": [
        "s.issuperset(t)"
      ],
      "metadata": {
        "id": "RO2aCcYf6BTI",
        "colab": {
          "base_uri": "https://localhost:8080/"
        },
        "outputId": "753aad79-5342-4bda-da17-22ec9d84dbab"
      },
      "execution_count": null,
      "outputs": [
        {
          "output_type": "execute_result",
          "data": {
            "text/plain": [
              "False"
            ]
          },
          "metadata": {},
          "execution_count": 10
        }
      ]
    },
    {
      "cell_type": "code",
      "source": [
        "#6.decimal to binary\n",
        "n=int(input(\"enter number\"))\n",
        "l=list()\n",
        "while n!=0:\n",
        "   r=n%2\n",
        "   l.append(r)\n",
        "   n=n//2\n",
        "l.reverse()\n",
        "for ele in l:\n",
        "    print(ele,end=\"\") "
      ],
      "metadata": {
        "id": "o2fdBAK66HiW"
      },
      "execution_count": null,
      "outputs": []
    },
    {
      "cell_type": "code",
      "source": [
        "#decimal to binary, octal,hexadecimal\n",
        "dec=355\n",
        "print(\"the decimal value of \",dec,\"is:\")\n",
        "print(bin(dec),\"in binary.\")\n",
        "print(oct(dec),\"in octal.\")\n",
        "print(hex(dec),\"in hexadecimal.\")"
      ],
      "metadata": {
        "id": "yKWGpIMROkog"
      },
      "execution_count": null,
      "outputs": []
    },
    {
      "cell_type": "code",
      "source": [
        "#7. arithmetic operations\n",
        "a=int(input(\"first value\"))\n",
        "b=int(input(\"second value\"))\n",
        "c=a+b\n",
        "print(c)\n",
        "\n",
        "c=a-b\n",
        "print(c)\n",
        "c=a*b\n",
        "print(c)\n",
        "c=a/b\n",
        "print(c)\n",
        "c=a%b\n",
        "print(c)"
      ],
      "metadata": {
        "id": "-TwuFOgxO6Q3",
        "outputId": "9b028c9c-2275-452f-8796-be9859c80964",
        "colab": {
          "base_uri": "https://localhost:8080/"
        }
      },
      "execution_count": null,
      "outputs": [
        {
          "output_type": "stream",
          "name": "stdout",
          "text": [
            "first value30\n",
            "second value50\n",
            "80\n",
            "-20\n",
            "1500\n",
            "0.6\n",
            "30\n"
          ]
        }
      ]
    },
    {
      "cell_type": "code",
      "source": [
        "#8. assignment operaters\n",
        "x=10\n",
        "print(x)\n",
        "x+=3\n",
        "print(x)\n",
        "x-=3\n",
        "print(x)\n",
        "x*=2\n",
        "print(x)\n",
        "x/=2\n",
        "print(x)\n",
        "x%=2\n",
        "print(x)"
      ],
      "metadata": {
        "colab": {
          "base_uri": "https://localhost:8080/"
        },
        "id": "Jbeb3YvhPR4N",
        "outputId": "9a0c11bc-78da-4fbf-f227-86c1ed582a42"
      },
      "execution_count": null,
      "outputs": [
        {
          "output_type": "stream",
          "name": "stdout",
          "text": [
            "10\n",
            "13\n",
            "10\n",
            "20\n",
            "10.0\n",
            "0.0\n"
          ]
        }
      ]
    },
    {
      "cell_type": "code",
      "source": [
        "#9. comparison operations\n",
        "x=10\n",
        "y=20\n",
        "print(x==y)\n",
        "print(x!=y)\n",
        "print(x>y)\n",
        "print(x<y)\n",
        "print(x<=y)\n",
        "print(x>=y)"
      ],
      "metadata": {
        "id": "j7BaxY9CPz4D",
        "outputId": "88d6272a-4a71-4a84-a667-d6abdf1afc6a",
        "colab": {
          "base_uri": "https://localhost:8080/"
        }
      },
      "execution_count": null,
      "outputs": [
        {
          "output_type": "stream",
          "name": "stdout",
          "text": [
            "False\n",
            "True\n",
            "False\n",
            "True\n",
            "True\n",
            "False\n"
          ]
        }
      ]
    },
    {
      "cell_type": "code",
      "source": [
        "#10. logical operations\n",
        "age=70\n",
        "temptr=102\n",
        "if(age>=50 and temptr>=98):\n",
        "  print(\"you need to go to hospital\")\n",
        "else:\n",
        "  print(\"you are ok\")"
      ],
      "metadata": {
        "id": "xp9T1abAQyz2",
        "outputId": "25c7d60a-445f-4626-91e8-3d48136741e4",
        "colab": {
          "base_uri": "https://localhost:8080/"
        }
      },
      "execution_count": null,
      "outputs": [
        {
          "output_type": "stream",
          "name": "stdout",
          "text": [
            "you need to go to hospital\n"
          ]
        }
      ]
    },
    {
      "cell_type": "code",
      "source": [
        "#logical operations (or)\n",
        "age=75\n",
        "temp=102\n",
        "if(age>=50 or temptr>=98):\n",
        "    print(\"you need to go to hospital\")\n",
        "else:\n",
        "      print(\"you are ok\")"
      ],
      "metadata": {
        "id": "rNi80HtKQlx9",
        "outputId": "95a042e4-dd2d-4d3b-877e-8a7496f1255e",
        "colab": {
          "base_uri": "https://localhost:8080/"
        }
      },
      "execution_count": null,
      "outputs": [
        {
          "output_type": "stream",
          "name": "stdout",
          "text": [
            "you need to go to hospital\n"
          ]
        }
      ]
    },
    {
      "cell_type": "code",
      "source": [
        "#logical operations\n",
        "a=17\n",
        "b=38\n",
        "if(a!=b):\n",
        "  print(\"natural numbers\")\n",
        "else:\n",
        "    print(\"number\")"
      ],
      "metadata": {
        "id": "Al_Qdiw9REH6",
        "outputId": "e5991084-f5e5-4103-c898-5448fb49804d",
        "colab": {
          "base_uri": "https://localhost:8080/"
        }
      },
      "execution_count": null,
      "outputs": [
        {
          "output_type": "stream",
          "name": "stdout",
          "text": [
            "natural numbers\n"
          ]
        }
      ]
    },
    {
      "cell_type": "code",
      "source": [
        "#11. bitwise operaters\n",
        "a=10\n",
        "b=4\n",
        "\n",
        "#print bitwise AND operation\n",
        "print(\"a&b:\",a&b)\n",
        "\n",
        "#print bitwise OR operation\n",
        "print(\"a|b:\",a|b)\n",
        "#print bitwise NOT operation\n",
        "print(\"~a:\",~a)\n",
        "#print bitwise XOR operation\n",
        "print(\"a^b:\",a^b)\n",
        "#print bitwise right shift operation\n",
        "print(\"a>>2:\",a>>2)\n",
        "#print bitwise left shift operation\n",
        "print(\"a<<2:\",a<<2)"
      ],
      "metadata": {
        "id": "DzbVb1YoRVOc",
        "outputId": "53a668b5-2b4e-47ed-91b6-8adb0adaacb2",
        "colab": {
          "base_uri": "https://localhost:8080/"
        }
      },
      "execution_count": null,
      "outputs": [
        {
          "output_type": "stream",
          "name": "stdout",
          "text": [
            "a&b: 0\n",
            "a|b: 14\n",
            "~a: -11\n",
            "a^b: 14\n",
            "a>>2: 2\n",
            "a<<2: 40\n"
          ]
        }
      ]
    },
    {
      "cell_type": "code",
      "source": [
        "#12. identical operaters\n",
        "a=20\n",
        "b=20\n",
        "print(a is b)\n",
        "a=30\n",
        "b=30\n",
        "print(a is not b)"
      ],
      "metadata": {
        "id": "rToV2YrDRgbJ",
        "outputId": "65e80d63-6285-4f44-ddb0-2a5abb943321",
        "colab": {
          "base_uri": "https://localhost:8080/"
        }
      },
      "execution_count": null,
      "outputs": [
        {
          "output_type": "stream",
          "name": "stdout",
          "text": [
            "True\n",
            "False\n"
          ]
        }
      ]
    },
    {
      "cell_type": "code",
      "source": [
        "#13. membership operaters\n",
        "str=\"WELCOME TO BOOTCAMP\"\n",
        "print(\"WEL\" in str)\n",
        "print(\"ABC\" in str)"
      ],
      "metadata": {
        "id": "el5KUVOhRsJf",
        "outputId": "ed6eba7b-32ba-4d8e-b61e-d6535388c495",
        "colab": {
          "base_uri": "https://localhost:8080/"
        }
      },
      "execution_count": null,
      "outputs": [
        {
          "output_type": "stream",
          "name": "stdout",
          "text": [
            "True\n",
            "False\n"
          ]
        }
      ]
    },
    {
      "cell_type": "code",
      "source": [
        "#14. negative Indexing in lists\n",
        "mylist=[\"cricket\",\"football\",\"hockey\",\"chess\",\"carrom\"]\n",
        "print(mylist)\n",
        "\n",
        "#fetch last element \n",
        "print (mylist[-1])\n",
        "print(mylist[-2])\n",
        "print(mylist[-3])\n",
        "print(mylist[-4])\n",
        "print(mylist[-5])"
      ],
      "metadata": {
        "id": "wTScwiKlR7Hk"
      },
      "execution_count": null,
      "outputs": []
    },
    {
      "cell_type": "code",
      "source": [
        "#15. predict the output\n",
        "print(\"A series of charecters designated as one object known as a string\"[::-1][4::3])\n",
        "print(\"-------------\")\n",
        "print(\"welcome to python training program\"[3:10][::-1])"
      ],
      "metadata": {
        "colab": {
          "base_uri": "https://localhost:8080/"
        },
        "id": "ws55W_NSSMBH",
        "outputId": "bc4811e8-c77f-4acc-ba9b-2e3b7e382c42"
      },
      "execution_count": null,
      "outputs": [
        {
          "output_type": "stream",
          "name": "stdout",
          "text": [
            "taawkcbe  tgestrcoeeA\n",
            "-------------\n",
            "ot emoc\n"
          ]
        }
      ]
    },
    {
      "cell_type": "code",
      "source": [
        "#16. p_phrase\n",
        "p_phrase=\"was it a car or a cat i saw\"\n",
        "print(p_phrase.upper()[::-1])"
      ],
      "metadata": {
        "colab": {
          "base_uri": "https://localhost:8080/"
        },
        "id": "kVkg1YWqS6kx",
        "outputId": "1a2d8544-ee90-455a-bb17-f0decfcd3094"
      },
      "execution_count": null,
      "outputs": [
        {
          "output_type": "stream",
          "name": "stdout",
          "text": [
            "WAS I TAC A RO RAC A TI SAW\n"
          ]
        }
      ]
    },
    {
      "cell_type": "code",
      "source": [
        "#17. z00\n",
        "x=int(input(\"\"))\n",
        "y=2*x\n",
        "print(x*'z'+y*'o')"
      ],
      "metadata": {
        "colab": {
          "base_uri": "https://localhost:8080/"
        },
        "id": "X7S6-B8nTZQM",
        "outputId": "13cd64dc-ec4b-4eeb-f708-42b9aa4c4d85"
      },
      "execution_count": null,
      "outputs": [
        {
          "output_type": "stream",
          "name": "stdout",
          "text": [
            "5\n",
            "zzzzzoooooooooo\n"
          ]
        }
      ]
    }
  ]
}